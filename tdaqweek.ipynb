{
 "cells": [
  {
   "cell_type": "code",
   "execution_count": null,
   "metadata": {},
   "outputs": [],
   "source": [
    "import yaml\n",
    "import os, fnmatch, re\n",
    "import matplotlib.pyplot as plt"
   ]
  },
  {
   "cell_type": "code",
   "execution_count": null,
   "metadata": {},
   "outputs": [],
   "source": [
    "def data_extraction(calico, hostnetwork):\n",
    "    calico_vals = []\n",
    "    hostnetwork_vals = []\n",
    "    with open(calico, 'r') as calico_results:\n",
    "        try:\n",
    "            calico_data = yaml.safe_load(calico_results)\n",
    "            calico_vals.append(int(calico_data['data']['pod2pod']['tcp']['bandwidth']))\n",
    "            calico_vals.append(int(calico_data['data']['pod2pod']['udp']['bandwidth']))\n",
    "            calico_vals.append(int(calico_data['data']['pod2svc']['tcp']['bandwidth']))\n",
    "            calico_vals.append(int(calico_data['data']['pod2svc']['udp']['bandwidth']))\n",
    "        except yaml.YAMLError as calico_yerr:\n",
    "            print(calico_yerr)\n",
    "            print(\"Could not open the calico network file\")\n",
    "    with open(hostnetwork, 'r') as hostnetwork_results:\n",
    "        try: \n",
    "            hostnetwork_data = yaml.safe_load(hostnetwork_results)\n",
    "            hostnetwork_vals.append(int(hostnetwork_data['data']['pod2pod']['tcp']['bandwidth']))\n",
    "            hostnetwork_vals.append(int(hostnetwork_data['data']['pod2pod']['udp']['bandwidth']))\n",
    "            hostnetwork_vals.append(int(hostnetwork_data['data']['pod2svc']['tcp']['bandwidth']))\n",
    "            hostnetwork_vals.append(int(hostnetwork_data['data']['pod2svc']['udp']['bandwidth']))\n",
    "        except yaml.YAMLError as hostnet_yerr:\n",
    "            print(hostnet_yerr)\n",
    "            print(\"Could not open the hostnetwork file\")\n",
    "    \n",
    "    return calico_vals, hostnetwork_vals"
   ]
  },
  {
   "cell_type": "code",
   "execution_count": null,
   "metadata": {},
   "outputs": [],
   "source": [
    "def networkplotting(calicodata, hostnetworkdata):\n",
    "    x_ax = [1, 2, 3, 4]\n",
    "    x_txt = [\"pod2pod-tcp\", \"pod2pod-udp\", \"pod2svc-tcp\", \"pod2svc-udp\"]\n",
    "\n",
    "    "
   ]
  },
  {
   "cell_type": "code",
   "execution_count": null,
   "metadata": {},
   "outputs": [],
   "source": [
    "test1 = \"tdaqweek1.knbdata.yaml\"\n",
    "test2 = \"tdaqweekhn1.knbdata.yaml\"\n"
   ]
  }
 ],
 "metadata": {
  "interpreter": {
   "hash": "40d3a090f54c6569ab1632332b64b2c03c39dcf918b08424e98f38b5ae0af88f"
  },
  "kernelspec": {
   "display_name": "Python 3.8.5 ('base')",
   "language": "python",
   "name": "python3"
  },
  "language_info": {
   "name": "python",
   "version": "3.8.5"
  },
  "orig_nbformat": 4
 },
 "nbformat": 4,
 "nbformat_minor": 2
}
